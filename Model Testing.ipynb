{
 "cells": [
  {
   "cell_type": "code",
   "execution_count": 7,
   "id": "3cfb5f5a",
   "metadata": {},
   "outputs": [],
   "source": [
    "import torch\n",
    "import numpy as np\n",
    "from MI_SegNet import Seg_encoder_LM,Seg_decoder_LM\n",
    "import os\n",
    "import matplotlib.pyplot as plt\n",
    "import cv2\n",
    "from torchvision import transforms\n",
    "import copy\n",
    "from torchmetrics.classification import BinaryPrecision\n",
    "from torchmetrics.classification import BinaryRecall"
   ]
  },
  {
   "cell_type": "code",
   "execution_count": 2,
   "id": "7de80669",
   "metadata": {},
   "outputs": [],
   "source": [
    "device='cuda'\n",
    "best_path = './ckpt/Trained_Model/model_best.pth'"
   ]
  },
  {
   "cell_type": "code",
   "execution_count": 3,
   "id": "13a35d85",
   "metadata": {},
   "outputs": [
    {
     "name": "stdout",
     "output_type": "stream",
     "text": [
      "tensor(0.1858, device='cuda:0') 30\n"
     ]
    }
   ],
   "source": [
    "bestPara=torch.load(best_path,map_location=device)\n",
    "print(bestPara['best_test_loss'], bestPara['epoch'])"
   ]
  },
  {
   "cell_type": "code",
   "execution_count": 4,
   "id": "1d2da951",
   "metadata": {},
   "outputs": [],
   "source": [
    "best_Seg_encoder = Seg_encoder_LM(1,64,2).to(device)\n",
    "best_Seg_decoder = Seg_decoder_LM(1,64,2).to(device)"
   ]
  },
  {
   "cell_type": "code",
   "execution_count": 5,
   "id": "4abc27e9",
   "metadata": {},
   "outputs": [
    {
     "name": "stdout",
     "output_type": "stream",
     "text": [
      "tensor(0.1858, device='cuda:0') 30\n"
     ]
    }
   ],
   "source": [
    "best_Seg_encoder.load_state_dict(bestPara['state_dict_seg_en'])\n",
    "\n",
    "best_Seg_decoder.load_state_dict(bestPara['state_dict_seg_de'])\n",
    "\n",
    "print(bestPara['best_test_loss'], bestPara['epoch'])\n",
    "del bestPara\n",
    "torch.cuda.empty_cache()"
   ]
  },
  {
   "cell_type": "code",
   "execution_count": 8,
   "id": "0ac9ca7f",
   "metadata": {},
   "outputs": [
    {
     "name": "stdout",
     "output_type": "stream",
     "text": [
      "Dice Avg: 0.8206733030758847 Dice Std: 0.14591141162780036\n",
      "Precision Avg: 0.8352771 Precision Std: 0.20423533\n",
      "Recall Avg: 0.8704513 Recall Std: 0.090117335\n"
     ]
    }
   ],
   "source": [
    "test_path='/home/robotics-meta/Project/yuanBi/Mutual_Info/github/MI_SegNet_dataset/TS3'\n",
    "files_img=os.listdir(os.path.join(test_path,'img'))\n",
    "files_img.sort()\n",
    "files_label=os.listdir(os.path.join(test_path,'label'))\n",
    "files_label.sort()\n",
    "dice_avg=[]\n",
    "precision_avg=[]\n",
    "recall_avg=[]\n",
    "###############################################\n",
    "transform_image=transforms.Normalize(0.5,0.5)\n",
    "###################################################\n",
    "\n",
    "precision_m = BinaryPrecision()\n",
    "recall_m = BinaryRecall()\n",
    "\n",
    "for i in range(len(files_img)):\n",
    "    img_path=os.path.join(test_path,'img',files_img[i])\n",
    "    label_path=os.path.join(test_path,'label',files_label[i])\n",
    "    \n",
    "    src=cv2.imread(img_path)\n",
    "    img = cv2.resize(src, (256,256),interpolation=cv2.INTER_LANCZOS4)\n",
    "    img = cv2.cvtColor(img, cv2.COLOR_BGR2GRAY)\n",
    "    img = img/255\n",
    "    \n",
    "    src = cv2.imread(label_path)\n",
    "    label = cv2.resize(src, (256,256),interpolation=cv2.INTER_LANCZOS4)\n",
    "    label = cv2.cvtColor(label, cv2.COLOR_BGR2GRAY)\n",
    "    \n",
    "    x = torch.from_numpy(img).float().to(device).view(-1,256,256)\n",
    "    l = torch.from_numpy(label).to(device).view(-1,256,256)\n",
    "    \n",
    "    x=transform_image(x)\n",
    "    \n",
    "    x = x.view(-1,1,256,256)\n",
    "    \n",
    "    z = best_Seg_encoder(x)\n",
    "    pred = best_Seg_decoder(z).view(-1,256,256)\n",
    "    pred_np = pred.view(256,256).cpu().detach().numpy()\n",
    "\n",
    "    dice = (2*np.sum(pred_np.flatten()*label.flatten())+2)/(np.sum(pred_np)+np.sum(label)+2)\n",
    "    dice_avg.append(dice)\n",
    "    \n",
    "    precision = precision_m(pred.squeeze(),l.squeeze())\n",
    "    precision_avg.append(precision.cpu().detach().numpy())\n",
    "    \n",
    "    recall = recall_m(pred.squeeze(),l.squeeze())\n",
    "    recall_avg.append(recall.cpu().detach().numpy())\n",
    "    \n",
    "dice_avg=np.array(dice_avg)\n",
    "precision_avg = np.array(precision_avg)\n",
    "recall_avg = np.array(recall_avg)\n",
    "print('Dice Avg:',dice_avg.mean(),'Dice Std:',dice_avg.std())\n",
    "print('Precision Avg:',precision_avg.mean(),'Precision Std:',precision_avg.std())\n",
    "print('Recall Avg:',recall_avg.mean(),'Recall Std:',recall_avg.std())\n"
   ]
  },
  {
   "cell_type": "code",
   "execution_count": 9,
   "id": "afa5ae0b",
   "metadata": {},
   "outputs": [
    {
     "name": "stdout",
     "output_type": "stream",
     "text": [
      "540\n"
     ]
    },
    {
     "data": {
      "text/plain": [
       "<matplotlib.image.AxesImage at 0x7fb130478160>"
      ]
     },
     "execution_count": 9,
     "metadata": {},
     "output_type": "execute_result"
    },
    {
     "data": {
      "image/png": "[encoded data removed]",
      "text/plain": [
       "<Figure size 432x288 with 1 Axes>"
      ]
     },
     "metadata": {
      "needs_background": "light"
     },
     "output_type": "display_data"
    }
   ],
   "source": [
    "test_path='/home/robotics-meta/Project/yuanBi/Mutual_Info/github/MI_SegNet_dataset/TS3'\n",
    "files_img=os.listdir(os.path.join(test_path,'img'))\n",
    "files_img.sort()\n",
    "files_label=os.listdir(os.path.join(test_path,'label'))\n",
    "files_label.sort()\n",
    "\n",
    "print(len(files_img))\n",
    "\n",
    "i=36\n",
    "\n",
    "img_path=os.path.join(test_path,'img',files_img[i])\n",
    "label_path=os.path.join(test_path,'label',files_label[i])\n",
    "\n",
    "src=cv2.imread(img_path)\n",
    "img = cv2.resize(src, (256,256),interpolation=cv2.INTER_LANCZOS4)\n",
    "img = cv2.cvtColor(img, cv2.COLOR_BGR2GRAY)\n",
    "img = img/255\n",
    "\n",
    "src = cv2.imread(label_path)\n",
    "label = cv2.resize(src, (256,256),interpolation=cv2.INTER_LANCZOS4)\n",
    "label = cv2.cvtColor(label, cv2.COLOR_BGR2GRAY)\n",
    "#     labels = torch.from_numpy(label).float().to(device)\n",
    "\n",
    "x = torch.from_numpy(img).float().to(device).view(-1,256,256)\n",
    "l = torch.from_numpy(label).to(device).view(-1,256,256)\n",
    "\n",
    "x=transform_image(x)\n",
    "\n",
    "x = x.view(-1,1,256,256)\n",
    "\n",
    "z = best_Seg_encoder(x)\n",
    "pred = best_Seg_decoder(z).view(-1,256,256)\n",
    "pred_np = pred.view(256,256).cpu().detach().numpy()\n",
    "\n",
    "img_plot = np.concatenate((img,label,pred_np),axis=1)\n",
    "plt.imshow(img_plot,cmap='gray')"
   ]
  },
  {
   "cell_type": "code",
   "execution_count": null,
   "id": "846aa93d",
   "metadata": {},
   "outputs": [],
   "source": []
  }
 ],
 "metadata": {
  "kernelspec": {
   "display_name": "Python 3",
   "language": "python",
   "name": "python3"
  },
  "language_info": {
   "codemirror_mode": {
    "name": "ipython",
    "version": 3
   },
   "file_extension": ".py",
   "mimetype": "text/x-python",
   "name": "python",
   "nbconvert_exporter": "python",
   "pygments_lexer": "ipython3",
   "version": "3.8.8"
  }
 },
 "nbformat": 4,
 "nbformat_minor": 5
}
